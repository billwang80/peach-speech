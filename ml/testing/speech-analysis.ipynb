{
 "cells": [
  {
   "cell_type": "code",
   "execution_count": 1,
   "id": "4b51901d",
   "metadata": {},
   "outputs": [
    {
     "data": {
      "text/html": [
       "        <script type=\"text/javascript\">\n",
       "        window.PlotlyConfig = {MathJaxConfig: 'local'};\n",
       "        if (window.MathJax) {MathJax.Hub.Config({SVG: {font: \"STIX-Web\"}});}\n",
       "        if (typeof require !== 'undefined') {\n",
       "        require.undef(\"plotly\");\n",
       "        requirejs.config({\n",
       "            paths: {\n",
       "                'plotly': ['https://cdn.plot.ly/plotly-2.8.3.min']\n",
       "            }\n",
       "        });\n",
       "        require(['plotly'], function(Plotly) {\n",
       "            window._Plotly = Plotly;\n",
       "        });\n",
       "        }\n",
       "        </script>\n",
       "        "
      ]
     },
     "metadata": {},
     "output_type": "display_data"
    }
   ],
   "source": [
    "import os\n",
    "import random\n",
    "import sys\n",
    "\n",
    "\n",
    "## Package\n",
    "import glob \n",
    "import IPython.display as ipd\n",
    "import librosa\n",
    "import librosa.display\n",
    "import matplotlib.pyplot as plt\n",
    "import numpy as np\n",
    "import pandas as pd\n",
    "import plotly.graph_objs as go\n",
    "import plotly.offline as py\n",
    "import plotly.tools as tls\n",
    "import seaborn as sns\n",
    "import scipy.io.wavfile\n",
    "import tensorflow as tf\n",
    "# import keras\n",
    "# keras = tf.keras\n",
    "py.init_notebook_mode(connected=True)\n",
    "\n",
    "\n",
    "## Keras\n",
    "from tensorflow.keras import regularizers\n",
    "from tensorflow.keras.callbacks import ModelCheckpoint, LearningRateScheduler, EarlyStopping\n",
    "from tensorflow.keras.callbacks import  History, ReduceLROnPlateau, CSVLogger\n",
    "from tensorflow.keras.models import Model, Sequential\n",
    "from tensorflow.keras.layers import Dense, Embedding, LSTM\n",
    "from tensorflow.keras.layers import Input, Flatten, Dropout, Activation, BatchNormalization\n",
    "from tensorflow.keras.layers import Conv1D, MaxPooling1D, AveragePooling1D\n",
    "from tensorflow.keras.preprocessing import sequence\n",
    "from tensorflow.keras.preprocessing.sequence import pad_sequences\n",
    "from tensorflow.keras.preprocessing.text import Tokenizer\n",
    "from tensorflow.keras import utils\n",
    "# NOTE: use utils.to_categorical\n",
    "# from tensorflow.keras.utils import np_utils \n",
    "# from tensorflow.keras.utils import to_categorical\n",
    "\n",
    "\n",
    "## Sklearn\n",
    "from sklearn.metrics import confusion_matrix\n",
    "from sklearn.preprocessing import LabelEncoder\n",
    "\n",
    "\n",
    "## Rest\n",
    "from scipy.fftpack import fft\n",
    "from scipy import signal\n",
    "from scipy.io import wavfile\n",
    "from tqdm import tqdm\n",
    "\n",
    "input_duration=3"
   ]
  },
  {
   "cell_type": "code",
   "execution_count": 2,
   "id": "477b1f9c",
   "metadata": {},
   "outputs": [
    {
     "name": "stdout",
     "output_type": "stream",
     "text": [
      "['Actor_01', 'Actor_02', 'Actor_03', 'Actor_04', 'Actor_05', 'Actor_06', 'Actor_07', 'Actor_08', 'Actor_09', 'Actor_10', 'Actor_11', 'Actor_12', 'Actor_13', 'Actor_14', 'Actor_15', 'Actor_16', 'Actor_17', 'Actor_18', 'Actor_19', 'Actor_20', 'Actor_21', 'Actor_22', 'Actor_23', 'Actor_24']\n"
     ]
    }
   ],
   "source": [
    "dir_list = os.listdir('ravdess-data/')\n",
    "dir_list.sort()\n",
    "print (dir_list)"
   ]
  },
  {
   "cell_type": "code",
   "execution_count": 3,
   "id": "46f0f113",
   "metadata": {},
   "outputs": [],
   "source": [
    "data_df = pd.DataFrame(columns=['path', 'source', 'actor', 'gender', 'intensity', 'statement', 'repetition', 'emotion'])\n",
    "\n",
    "count = 0\n",
    "for actor_folder in dir_list:\n",
    "    file_list = os.listdir('ravdess-data/' + actor_folder)\n",
    "    for f in file_list:\n",
    "        nm = f.split('.')[0].split('-')\n",
    "        path = 'ravdess-data/' + actor_folder + '/' + f\n",
    "        src = int(nm[1])\n",
    "        actor = int(nm[-1])\n",
    "        emotion = int(nm[2])\n",
    "        gender = 'female' if int(actor)%2 == 0 else 'male'\n",
    "        intensity = 0 if nm[3] == '01' else 1\n",
    "        statement = 0 if nm[4] == '01' else 1\n",
    "        repeat = 0 if nm[5] == '01' else 1\n",
    "        \n",
    "        data_df.loc[count] = [path, src, actor, gender, intensity, statement, repeat, emotion]\n",
    "        count+=1\n",
    "        \n",
    "        "
   ]
  },
  {
   "cell_type": "code",
   "execution_count": null,
   "id": "b532bc20",
   "metadata": {},
   "outputs": [],
   "source": [
    "print(len(data_df))\n",
    "prin"
   ]
  }
 ],
 "metadata": {
  "kernelspec": {
   "display_name": "Python 3 (ipykernel)",
   "language": "python",
   "name": "python3"
  },
  "language_info": {
   "codemirror_mode": {
    "name": "ipython",
    "version": 3
   },
   "file_extension": ".py",
   "mimetype": "text/x-python",
   "name": "python",
   "nbconvert_exporter": "python",
   "pygments_lexer": "ipython3",
   "version": "3.9.7"
  }
 },
 "nbformat": 4,
 "nbformat_minor": 5
}
